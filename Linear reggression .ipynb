{
 "cells": [
  {
   "cell_type": "code",
   "execution_count": 1,
   "metadata": {},
   "outputs": [],
   "source": [
    "import pandas as pd\n",
    "import numpy as np\n",
    "import matplotlib.pyplot as plt"
   ]
  },
  {
   "cell_type": "code",
   "execution_count": 2,
   "metadata": {},
   "outputs": [],
   "source": [
    "df = pd.read_csv('regression_train.csv')"
   ]
  },
  {
   "cell_type": "code",
   "execution_count": 3,
   "metadata": {},
   "outputs": [
    {
     "data": {
      "text/html": [
       "<div>\n",
       "<style scoped>\n",
       "    .dataframe tbody tr th:only-of-type {\n",
       "        vertical-align: middle;\n",
       "    }\n",
       "\n",
       "    .dataframe tbody tr th {\n",
       "        vertical-align: top;\n",
       "    }\n",
       "\n",
       "    .dataframe thead th {\n",
       "        text-align: right;\n",
       "    }\n",
       "</style>\n",
       "<table border=\"1\" class=\"dataframe\">\n",
       "  <thead>\n",
       "    <tr style=\"text-align: right;\">\n",
       "      <th></th>\n",
       "      <th>data1</th>\n",
       "      <th>data2</th>\n",
       "      <th>data3</th>\n",
       "      <th>data4</th>\n",
       "      <th>data5</th>\n",
       "      <th>data6</th>\n",
       "      <th>data7</th>\n",
       "      <th>data8</th>\n",
       "      <th>data9</th>\n",
       "      <th>data10</th>\n",
       "      <th>output</th>\n",
       "    </tr>\n",
       "  </thead>\n",
       "  <tbody>\n",
       "    <tr>\n",
       "      <th>0</th>\n",
       "      <td>8</td>\n",
       "      <td>279</td>\n",
       "      <td>C</td>\n",
       "      <td>14.451155</td>\n",
       "      <td>1139.0</td>\n",
       "      <td>1.0</td>\n",
       "      <td>9.302908</td>\n",
       "      <td>1.0</td>\n",
       "      <td>M</td>\n",
       "      <td>p</td>\n",
       "      <td>86.108947</td>\n",
       "    </tr>\n",
       "    <tr>\n",
       "      <th>1</th>\n",
       "      <td>1</td>\n",
       "      <td>108</td>\n",
       "      <td>H</td>\n",
       "      <td>14.207448</td>\n",
       "      <td>1656.0</td>\n",
       "      <td>1.0</td>\n",
       "      <td>7.220130</td>\n",
       "      <td>0.0</td>\n",
       "      <td>M</td>\n",
       "      <td>p</td>\n",
       "      <td>42.606833</td>\n",
       "    </tr>\n",
       "    <tr>\n",
       "      <th>2</th>\n",
       "      <td>8</td>\n",
       "      <td>258</td>\n",
       "      <td>A</td>\n",
       "      <td>19.220830</td>\n",
       "      <td>2817.0</td>\n",
       "      <td>1.0</td>\n",
       "      <td>8.727214</td>\n",
       "      <td>1.0</td>\n",
       "      <td>M</td>\n",
       "      <td>p</td>\n",
       "      <td>85.625961</td>\n",
       "    </tr>\n",
       "    <tr>\n",
       "      <th>3</th>\n",
       "      <td>4</td>\n",
       "      <td>147</td>\n",
       "      <td>A</td>\n",
       "      <td>15.752732</td>\n",
       "      <td>1948.0</td>\n",
       "      <td>1.0</td>\n",
       "      <td>6.078818</td>\n",
       "      <td>1.0</td>\n",
       "      <td>M</td>\n",
       "      <td>p</td>\n",
       "      <td>53.656277</td>\n",
       "    </tr>\n",
       "    <tr>\n",
       "      <th>4</th>\n",
       "      <td>5</td>\n",
       "      <td>230</td>\n",
       "      <td>H</td>\n",
       "      <td>10.195407</td>\n",
       "      <td>1336.0</td>\n",
       "      <td>1.0</td>\n",
       "      <td>4.749185</td>\n",
       "      <td>0.0</td>\n",
       "      <td>M</td>\n",
       "      <td>p</td>\n",
       "      <td>64.925051</td>\n",
       "    </tr>\n",
       "  </tbody>\n",
       "</table>\n",
       "</div>"
      ],
      "text/plain": [
       "   data1  data2 data3      data4   data5  data6     data7  data8 data9 data10  \\\n",
       "0      8    279     C  14.451155  1139.0    1.0  9.302908    1.0     M      p   \n",
       "1      1    108     H  14.207448  1656.0    1.0  7.220130    0.0     M      p   \n",
       "2      8    258     A  19.220830  2817.0    1.0  8.727214    1.0     M      p   \n",
       "3      4    147     A  15.752732  1948.0    1.0  6.078818    1.0     M      p   \n",
       "4      5    230     H  10.195407  1336.0    1.0  4.749185    0.0     M      p   \n",
       "\n",
       "      output  \n",
       "0  86.108947  \n",
       "1  42.606833  \n",
       "2  85.625961  \n",
       "3  53.656277  \n",
       "4  64.925051  "
      ]
     },
     "execution_count": 3,
     "metadata": {},
     "output_type": "execute_result"
    }
   ],
   "source": [
    "df.head()"
   ]
  },
  {
   "cell_type": "code",
   "execution_count": 4,
   "metadata": {},
   "outputs": [
    {
     "data": {
      "text/plain": [
       "data1       int64\n",
       "data2       int64\n",
       "data3      object\n",
       "data4     float64\n",
       "data5     float64\n",
       "data6     float64\n",
       "data7     float64\n",
       "data8     float64\n",
       "data9      object\n",
       "data10     object\n",
       "output    float64\n",
       "dtype: object"
      ]
     },
     "execution_count": 4,
     "metadata": {},
     "output_type": "execute_result"
    }
   ],
   "source": [
    "df.dtypes"
   ]
  },
  {
   "cell_type": "code",
   "execution_count": 5,
   "metadata": {},
   "outputs": [
    {
     "name": "stdout",
     "output_type": "stream",
     "text": [
      "<class 'pandas.core.frame.DataFrame'>\n",
      "RangeIndex: 10000 entries, 0 to 9999\n",
      "Data columns (total 11 columns):\n",
      " #   Column  Non-Null Count  Dtype  \n",
      "---  ------  --------------  -----  \n",
      " 0   data1   10000 non-null  int64  \n",
      " 1   data2   10000 non-null  int64  \n",
      " 2   data3   10000 non-null  object \n",
      " 3   data4   10000 non-null  float64\n",
      " 4   data5   9999 non-null   float64\n",
      " 5   data6   9997 non-null   float64\n",
      " 6   data7   9998 non-null   float64\n",
      " 7   data8   9999 non-null   float64\n",
      " 8   data9   9999 non-null   object \n",
      " 9   data10  9999 non-null   object \n",
      " 10  output  9999 non-null   float64\n",
      "dtypes: float64(6), int64(2), object(3)\n",
      "memory usage: 859.5+ KB\n"
     ]
    }
   ],
   "source": [
    "df.info()"
   ]
  },
  {
   "cell_type": "code",
   "execution_count": 6,
   "metadata": {},
   "outputs": [
    {
     "data": {
      "text/html": [
       "<div>\n",
       "<style scoped>\n",
       "    .dataframe tbody tr th:only-of-type {\n",
       "        vertical-align: middle;\n",
       "    }\n",
       "\n",
       "    .dataframe tbody tr th {\n",
       "        vertical-align: top;\n",
       "    }\n",
       "\n",
       "    .dataframe thead th {\n",
       "        text-align: right;\n",
       "    }\n",
       "</style>\n",
       "<table border=\"1\" class=\"dataframe\">\n",
       "  <thead>\n",
       "    <tr style=\"text-align: right;\">\n",
       "      <th></th>\n",
       "      <th>data1</th>\n",
       "      <th>data2</th>\n",
       "      <th>data4</th>\n",
       "      <th>data5</th>\n",
       "      <th>data6</th>\n",
       "      <th>data7</th>\n",
       "      <th>data8</th>\n",
       "      <th>output</th>\n",
       "    </tr>\n",
       "  </thead>\n",
       "  <tbody>\n",
       "    <tr>\n",
       "      <th>data1</th>\n",
       "      <td>1.000000</td>\n",
       "      <td>0.008599</td>\n",
       "      <td>0.007328</td>\n",
       "      <td>-0.022778</td>\n",
       "      <td>-0.002956</td>\n",
       "      <td>-0.000363</td>\n",
       "      <td>-0.008360</td>\n",
       "      <td>0.185539</td>\n",
       "    </tr>\n",
       "    <tr>\n",
       "      <th>data2</th>\n",
       "      <td>0.008599</td>\n",
       "      <td>1.000000</td>\n",
       "      <td>0.019033</td>\n",
       "      <td>0.017336</td>\n",
       "      <td>0.010093</td>\n",
       "      <td>-0.013163</td>\n",
       "      <td>0.013472</td>\n",
       "      <td>0.867936</td>\n",
       "    </tr>\n",
       "    <tr>\n",
       "      <th>data4</th>\n",
       "      <td>0.007328</td>\n",
       "      <td>0.019033</td>\n",
       "      <td>1.000000</td>\n",
       "      <td>0.006345</td>\n",
       "      <td>0.000550</td>\n",
       "      <td>0.018227</td>\n",
       "      <td>-0.003273</td>\n",
       "      <td>0.406100</td>\n",
       "    </tr>\n",
       "    <tr>\n",
       "      <th>data5</th>\n",
       "      <td>-0.022778</td>\n",
       "      <td>0.017336</td>\n",
       "      <td>0.006345</td>\n",
       "      <td>1.000000</td>\n",
       "      <td>0.005740</td>\n",
       "      <td>0.009472</td>\n",
       "      <td>0.009289</td>\n",
       "      <td>0.015307</td>\n",
       "    </tr>\n",
       "    <tr>\n",
       "      <th>data6</th>\n",
       "      <td>-0.002956</td>\n",
       "      <td>0.010093</td>\n",
       "      <td>0.000550</td>\n",
       "      <td>0.005740</td>\n",
       "      <td>1.000000</td>\n",
       "      <td>-0.020063</td>\n",
       "      <td>-0.001605</td>\n",
       "      <td>-0.009857</td>\n",
       "    </tr>\n",
       "    <tr>\n",
       "      <th>data7</th>\n",
       "      <td>-0.000363</td>\n",
       "      <td>-0.013163</td>\n",
       "      <td>0.018227</td>\n",
       "      <td>0.009472</td>\n",
       "      <td>-0.020063</td>\n",
       "      <td>1.000000</td>\n",
       "      <td>-0.009359</td>\n",
       "      <td>0.212560</td>\n",
       "    </tr>\n",
       "    <tr>\n",
       "      <th>data8</th>\n",
       "      <td>-0.008360</td>\n",
       "      <td>0.013472</td>\n",
       "      <td>-0.003273</td>\n",
       "      <td>0.009289</td>\n",
       "      <td>-0.001605</td>\n",
       "      <td>-0.009359</td>\n",
       "      <td>1.000000</td>\n",
       "      <td>0.008142</td>\n",
       "    </tr>\n",
       "    <tr>\n",
       "      <th>output</th>\n",
       "      <td>0.185539</td>\n",
       "      <td>0.867936</td>\n",
       "      <td>0.406100</td>\n",
       "      <td>0.015307</td>\n",
       "      <td>-0.009857</td>\n",
       "      <td>0.212560</td>\n",
       "      <td>0.008142</td>\n",
       "      <td>1.000000</td>\n",
       "    </tr>\n",
       "  </tbody>\n",
       "</table>\n",
       "</div>"
      ],
      "text/plain": [
       "           data1     data2     data4     data5     data6     data7     data8  \\\n",
       "data1   1.000000  0.008599  0.007328 -0.022778 -0.002956 -0.000363 -0.008360   \n",
       "data2   0.008599  1.000000  0.019033  0.017336  0.010093 -0.013163  0.013472   \n",
       "data4   0.007328  0.019033  1.000000  0.006345  0.000550  0.018227 -0.003273   \n",
       "data5  -0.022778  0.017336  0.006345  1.000000  0.005740  0.009472  0.009289   \n",
       "data6  -0.002956  0.010093  0.000550  0.005740  1.000000 -0.020063 -0.001605   \n",
       "data7  -0.000363 -0.013163  0.018227  0.009472 -0.020063  1.000000 -0.009359   \n",
       "data8  -0.008360  0.013472 -0.003273  0.009289 -0.001605 -0.009359  1.000000   \n",
       "output  0.185539  0.867936  0.406100  0.015307 -0.009857  0.212560  0.008142   \n",
       "\n",
       "          output  \n",
       "data1   0.185539  \n",
       "data2   0.867936  \n",
       "data4   0.406100  \n",
       "data5   0.015307  \n",
       "data6  -0.009857  \n",
       "data7   0.212560  \n",
       "data8   0.008142  \n",
       "output  1.000000  "
      ]
     },
     "execution_count": 6,
     "metadata": {},
     "output_type": "execute_result"
    }
   ],
   "source": [
    "df.corr()"
   ]
  },
  {
   "cell_type": "code",
   "execution_count": 7,
   "metadata": {},
   "outputs": [
    {
     "data": {
      "text/html": [
       "<div>\n",
       "<style scoped>\n",
       "    .dataframe tbody tr th:only-of-type {\n",
       "        vertical-align: middle;\n",
       "    }\n",
       "\n",
       "    .dataframe tbody tr th {\n",
       "        vertical-align: top;\n",
       "    }\n",
       "\n",
       "    .dataframe thead th {\n",
       "        text-align: right;\n",
       "    }\n",
       "</style>\n",
       "<table border=\"1\" class=\"dataframe\">\n",
       "  <thead>\n",
       "    <tr style=\"text-align: right;\">\n",
       "      <th></th>\n",
       "      <th>output</th>\n",
       "    </tr>\n",
       "  </thead>\n",
       "  <tbody>\n",
       "    <tr>\n",
       "      <th>output</th>\n",
       "      <td>1.000000</td>\n",
       "    </tr>\n",
       "    <tr>\n",
       "      <th>data2</th>\n",
       "      <td>0.867936</td>\n",
       "    </tr>\n",
       "    <tr>\n",
       "      <th>data4</th>\n",
       "      <td>0.406100</td>\n",
       "    </tr>\n",
       "    <tr>\n",
       "      <th>data7</th>\n",
       "      <td>0.212560</td>\n",
       "    </tr>\n",
       "    <tr>\n",
       "      <th>data1</th>\n",
       "      <td>0.185539</td>\n",
       "    </tr>\n",
       "    <tr>\n",
       "      <th>data5</th>\n",
       "      <td>0.015307</td>\n",
       "    </tr>\n",
       "    <tr>\n",
       "      <th>data8</th>\n",
       "      <td>0.008142</td>\n",
       "    </tr>\n",
       "    <tr>\n",
       "      <th>data6</th>\n",
       "      <td>-0.009857</td>\n",
       "    </tr>\n",
       "  </tbody>\n",
       "</table>\n",
       "</div>"
      ],
      "text/plain": [
       "          output\n",
       "output  1.000000\n",
       "data2   0.867936\n",
       "data4   0.406100\n",
       "data7   0.212560\n",
       "data1   0.185539\n",
       "data5   0.015307\n",
       "data8   0.008142\n",
       "data6  -0.009857"
      ]
     },
     "execution_count": 7,
     "metadata": {},
     "output_type": "execute_result"
    }
   ],
   "source": [
    "corr=df.corr()\n",
    "corr.sort_values(['output'], ascending = False, inplace = True)\n",
    "df2= pd.DataFrame(corr.output)\n",
    "df2"
   ]
  },
  {
   "cell_type": "code",
   "execution_count": 8,
   "metadata": {},
   "outputs": [],
   "source": [
    "droplist=['data10','data3']\n",
    "df.drop(droplist,axis=1,inplace=True)\n"
   ]
  },
  {
   "cell_type": "code",
   "execution_count": 9,
   "metadata": {},
   "outputs": [
    {
     "data": {
      "text/html": [
       "<div>\n",
       "<style scoped>\n",
       "    .dataframe tbody tr th:only-of-type {\n",
       "        vertical-align: middle;\n",
       "    }\n",
       "\n",
       "    .dataframe tbody tr th {\n",
       "        vertical-align: top;\n",
       "    }\n",
       "\n",
       "    .dataframe thead th {\n",
       "        text-align: right;\n",
       "    }\n",
       "</style>\n",
       "<table border=\"1\" class=\"dataframe\">\n",
       "  <thead>\n",
       "    <tr style=\"text-align: right;\">\n",
       "      <th></th>\n",
       "      <th>data1</th>\n",
       "      <th>data2</th>\n",
       "      <th>data4</th>\n",
       "      <th>data5</th>\n",
       "      <th>data6</th>\n",
       "      <th>data7</th>\n",
       "      <th>data8</th>\n",
       "      <th>data9</th>\n",
       "      <th>output</th>\n",
       "    </tr>\n",
       "  </thead>\n",
       "  <tbody>\n",
       "    <tr>\n",
       "      <th>0</th>\n",
       "      <td>8</td>\n",
       "      <td>279</td>\n",
       "      <td>14.451155</td>\n",
       "      <td>1139.0</td>\n",
       "      <td>1.0</td>\n",
       "      <td>9.302908</td>\n",
       "      <td>1.0</td>\n",
       "      <td>M</td>\n",
       "      <td>86.108947</td>\n",
       "    </tr>\n",
       "    <tr>\n",
       "      <th>1</th>\n",
       "      <td>1</td>\n",
       "      <td>108</td>\n",
       "      <td>14.207448</td>\n",
       "      <td>1656.0</td>\n",
       "      <td>1.0</td>\n",
       "      <td>7.220130</td>\n",
       "      <td>0.0</td>\n",
       "      <td>M</td>\n",
       "      <td>42.606833</td>\n",
       "    </tr>\n",
       "    <tr>\n",
       "      <th>2</th>\n",
       "      <td>8</td>\n",
       "      <td>258</td>\n",
       "      <td>19.220830</td>\n",
       "      <td>2817.0</td>\n",
       "      <td>1.0</td>\n",
       "      <td>8.727214</td>\n",
       "      <td>1.0</td>\n",
       "      <td>M</td>\n",
       "      <td>85.625961</td>\n",
       "    </tr>\n",
       "    <tr>\n",
       "      <th>3</th>\n",
       "      <td>4</td>\n",
       "      <td>147</td>\n",
       "      <td>15.752732</td>\n",
       "      <td>1948.0</td>\n",
       "      <td>1.0</td>\n",
       "      <td>6.078818</td>\n",
       "      <td>1.0</td>\n",
       "      <td>M</td>\n",
       "      <td>53.656277</td>\n",
       "    </tr>\n",
       "    <tr>\n",
       "      <th>4</th>\n",
       "      <td>5</td>\n",
       "      <td>230</td>\n",
       "      <td>10.195407</td>\n",
       "      <td>1336.0</td>\n",
       "      <td>1.0</td>\n",
       "      <td>4.749185</td>\n",
       "      <td>0.0</td>\n",
       "      <td>M</td>\n",
       "      <td>64.925051</td>\n",
       "    </tr>\n",
       "  </tbody>\n",
       "</table>\n",
       "</div>"
      ],
      "text/plain": [
       "   data1  data2      data4   data5  data6     data7  data8 data9     output\n",
       "0      8    279  14.451155  1139.0    1.0  9.302908    1.0     M  86.108947\n",
       "1      1    108  14.207448  1656.0    1.0  7.220130    0.0     M  42.606833\n",
       "2      8    258  19.220830  2817.0    1.0  8.727214    1.0     M  85.625961\n",
       "3      4    147  15.752732  1948.0    1.0  6.078818    1.0     M  53.656277\n",
       "4      5    230  10.195407  1336.0    1.0  4.749185    0.0     M  64.925051"
      ]
     },
     "execution_count": 9,
     "metadata": {},
     "output_type": "execute_result"
    }
   ],
   "source": [
    "df.head()"
   ]
  },
  {
   "cell_type": "code",
   "execution_count": 10,
   "metadata": {},
   "outputs": [],
   "source": [
    "df = pd.get_dummies(df,drop_first= True)"
   ]
  },
  {
   "cell_type": "code",
   "execution_count": 11,
   "metadata": {},
   "outputs": [
    {
     "data": {
      "text/html": [
       "<div>\n",
       "<style scoped>\n",
       "    .dataframe tbody tr th:only-of-type {\n",
       "        vertical-align: middle;\n",
       "    }\n",
       "\n",
       "    .dataframe tbody tr th {\n",
       "        vertical-align: top;\n",
       "    }\n",
       "\n",
       "    .dataframe thead th {\n",
       "        text-align: right;\n",
       "    }\n",
       "</style>\n",
       "<table border=\"1\" class=\"dataframe\">\n",
       "  <thead>\n",
       "    <tr style=\"text-align: right;\">\n",
       "      <th></th>\n",
       "      <th>data1</th>\n",
       "      <th>data2</th>\n",
       "      <th>data4</th>\n",
       "      <th>data5</th>\n",
       "      <th>data6</th>\n",
       "      <th>data7</th>\n",
       "      <th>data8</th>\n",
       "      <th>output</th>\n",
       "      <th>data9_M</th>\n",
       "    </tr>\n",
       "  </thead>\n",
       "  <tbody>\n",
       "    <tr>\n",
       "      <th>0</th>\n",
       "      <td>8</td>\n",
       "      <td>279</td>\n",
       "      <td>14.451155</td>\n",
       "      <td>1139.0</td>\n",
       "      <td>1.0</td>\n",
       "      <td>9.302908</td>\n",
       "      <td>1.0</td>\n",
       "      <td>86.108947</td>\n",
       "      <td>1</td>\n",
       "    </tr>\n",
       "    <tr>\n",
       "      <th>1</th>\n",
       "      <td>1</td>\n",
       "      <td>108</td>\n",
       "      <td>14.207448</td>\n",
       "      <td>1656.0</td>\n",
       "      <td>1.0</td>\n",
       "      <td>7.220130</td>\n",
       "      <td>0.0</td>\n",
       "      <td>42.606833</td>\n",
       "      <td>1</td>\n",
       "    </tr>\n",
       "    <tr>\n",
       "      <th>2</th>\n",
       "      <td>8</td>\n",
       "      <td>258</td>\n",
       "      <td>19.220830</td>\n",
       "      <td>2817.0</td>\n",
       "      <td>1.0</td>\n",
       "      <td>8.727214</td>\n",
       "      <td>1.0</td>\n",
       "      <td>85.625961</td>\n",
       "      <td>1</td>\n",
       "    </tr>\n",
       "    <tr>\n",
       "      <th>3</th>\n",
       "      <td>4</td>\n",
       "      <td>147</td>\n",
       "      <td>15.752732</td>\n",
       "      <td>1948.0</td>\n",
       "      <td>1.0</td>\n",
       "      <td>6.078818</td>\n",
       "      <td>1.0</td>\n",
       "      <td>53.656277</td>\n",
       "      <td>1</td>\n",
       "    </tr>\n",
       "    <tr>\n",
       "      <th>4</th>\n",
       "      <td>5</td>\n",
       "      <td>230</td>\n",
       "      <td>10.195407</td>\n",
       "      <td>1336.0</td>\n",
       "      <td>1.0</td>\n",
       "      <td>4.749185</td>\n",
       "      <td>0.0</td>\n",
       "      <td>64.925051</td>\n",
       "      <td>1</td>\n",
       "    </tr>\n",
       "  </tbody>\n",
       "</table>\n",
       "</div>"
      ],
      "text/plain": [
       "   data1  data2      data4   data5  data6     data7  data8     output  data9_M\n",
       "0      8    279  14.451155  1139.0    1.0  9.302908    1.0  86.108947        1\n",
       "1      1    108  14.207448  1656.0    1.0  7.220130    0.0  42.606833        1\n",
       "2      8    258  19.220830  2817.0    1.0  8.727214    1.0  85.625961        1\n",
       "3      4    147  15.752732  1948.0    1.0  6.078818    1.0  53.656277        1\n",
       "4      5    230  10.195407  1336.0    1.0  4.749185    0.0  64.925051        1"
      ]
     },
     "execution_count": 11,
     "metadata": {},
     "output_type": "execute_result"
    }
   ],
   "source": [
    "df.head()"
   ]
  },
  {
   "cell_type": "code",
   "execution_count": 12,
   "metadata": {},
   "outputs": [
    {
     "name": "stdout",
     "output_type": "stream",
     "text": [
      "<class 'pandas.core.frame.DataFrame'>\n",
      "RangeIndex: 10000 entries, 0 to 9999\n",
      "Data columns (total 9 columns):\n",
      " #   Column   Non-Null Count  Dtype  \n",
      "---  ------   --------------  -----  \n",
      " 0   data1    10000 non-null  int64  \n",
      " 1   data2    10000 non-null  int64  \n",
      " 2   data4    10000 non-null  float64\n",
      " 3   data5    9999 non-null   float64\n",
      " 4   data6    9997 non-null   float64\n",
      " 5   data7    9998 non-null   float64\n",
      " 6   data8    9999 non-null   float64\n",
      " 7   output   9999 non-null   float64\n",
      " 8   data9_M  10000 non-null  uint8  \n",
      "dtypes: float64(6), int64(2), uint8(1)\n",
      "memory usage: 634.9 KB\n"
     ]
    }
   ],
   "source": [
    "df.info()"
   ]
  },
  {
   "cell_type": "code",
   "execution_count": 13,
   "metadata": {},
   "outputs": [],
   "source": [
    "df['data5'].fillna(df['data5'].median(), inplace=True)\n",
    "df['data7'].fillna(df['data7'].median(), inplace=True)\n",
    "df['data8'].fillna(df['data8'].median(), inplace=True)\n",
    "df['output'].fillna(df['output'].median(), inplace=True)\n",
    "df['data6'].fillna(df['data6'].median(), inplace=True)\n"
   ]
  },
  {
   "cell_type": "code",
   "execution_count": 14,
   "metadata": {},
   "outputs": [
    {
     "name": "stdout",
     "output_type": "stream",
     "text": [
      "<class 'pandas.core.frame.DataFrame'>\n",
      "RangeIndex: 10000 entries, 0 to 9999\n",
      "Data columns (total 9 columns):\n",
      " #   Column   Non-Null Count  Dtype  \n",
      "---  ------   --------------  -----  \n",
      " 0   data1    10000 non-null  int64  \n",
      " 1   data2    10000 non-null  int64  \n",
      " 2   data4    10000 non-null  float64\n",
      " 3   data5    10000 non-null  float64\n",
      " 4   data6    10000 non-null  float64\n",
      " 5   data7    10000 non-null  float64\n",
      " 6   data8    10000 non-null  float64\n",
      " 7   output   10000 non-null  float64\n",
      " 8   data9_M  10000 non-null  uint8  \n",
      "dtypes: float64(6), int64(2), uint8(1)\n",
      "memory usage: 634.9 KB\n"
     ]
    }
   ],
   "source": [
    "df.info()"
   ]
  },
  {
   "cell_type": "code",
   "execution_count": 15,
   "metadata": {},
   "outputs": [
    {
     "data": {
      "text/plain": [
       "(10000, 1)"
      ]
     },
     "execution_count": 15,
     "metadata": {},
     "output_type": "execute_result"
    }
   ],
   "source": [
    "X= df.drop('output',axis=1)\n",
    "Y = df.loc[:,['output']].values\n",
    "Y.shape"
   ]
  },
  {
   "cell_type": "code",
   "execution_count": 16,
   "metadata": {},
   "outputs": [
    {
     "data": {
      "text/plain": [
       "(10000, 8)"
      ]
     },
     "execution_count": 16,
     "metadata": {},
     "output_type": "execute_result"
    }
   ],
   "source": [
    "from sklearn.preprocessing import StandardScaler\n",
    "sc = StandardScaler()\n",
    "X = sc.fit_transform(X)\n",
    "X.shape"
   ]
  },
  {
   "cell_type": "code",
   "execution_count": 17,
   "metadata": {},
   "outputs": [
    {
     "data": {
      "text/plain": [
       "(10000,)"
      ]
     },
     "execution_count": 17,
     "metadata": {},
     "output_type": "execute_result"
    }
   ],
   "source": [
    "Y = Y.reshape(-1)\n",
    "Y.shape"
   ]
  },
  {
   "cell_type": "code",
   "execution_count": 18,
   "metadata": {},
   "outputs": [],
   "source": [
    "from sklearn.model_selection import train_test_split\n",
    "X_train, X_test, y_train, y_test = train_test_split(X,Y,test_size=0.30,random_state=0)"
   ]
  },
  {
   "cell_type": "code",
   "execution_count": 19,
   "metadata": {},
   "outputs": [],
   "source": [
    "from sklearn.linear_model import LinearRegression\n",
    "lr = LinearRegression() \n",
    "reg = lr.fit(X_train, y_train)"
   ]
  },
  {
   "cell_type": "code",
   "execution_count": 20,
   "metadata": {},
   "outputs": [],
   "source": [
    "y_pred = reg.predict(X_test)"
   ]
  },
  {
   "cell_type": "code",
   "execution_count": 21,
   "metadata": {},
   "outputs": [
    {
     "name": "stdout",
     "output_type": "stream",
     "text": [
      "Mean squared error: 14.02\n",
      "Coefficient of determination: 0.92\n"
     ]
    }
   ],
   "source": [
    "from sklearn.metrics import mean_squared_error, r2_score\n",
    "print('Mean squared error: %.2f'\n",
    "      % mean_squared_error(y_test,y_pred))\n",
    "print('Coefficient of determination: %.2f'\n",
    "      % r2_score(y_test, y_pred))\n",
    "R2= r2_score(y_test, y_pred)"
   ]
  },
  {
   "cell_type": "code",
   "execution_count": 22,
   "metadata": {},
   "outputs": [],
   "source": []
  },
  {
   "cell_type": "code",
   "execution_count": 23,
   "metadata": {},
   "outputs": [],
   "source": []
  },
  {
   "cell_type": "code",
   "execution_count": 24,
   "metadata": {},
   "outputs": [],
   "source": []
  },
  {
   "cell_type": "code",
   "execution_count": 25,
   "metadata": {},
   "outputs": [],
   "source": []
  },
  {
   "cell_type": "code",
   "execution_count": null,
   "metadata": {},
   "outputs": [],
   "source": []
  },
  {
   "cell_type": "code",
   "execution_count": null,
   "metadata": {},
   "outputs": [],
   "source": []
  },
  {
   "cell_type": "code",
   "execution_count": null,
   "metadata": {},
   "outputs": [],
   "source": []
  }
 ],
 "metadata": {
  "kernelspec": {
   "display_name": "Python 3",
   "language": "python",
   "name": "python3"
  },
  "language_info": {
   "codemirror_mode": {
    "name": "ipython",
    "version": 3
   },
   "file_extension": ".py",
   "mimetype": "text/x-python",
   "name": "python",
   "nbconvert_exporter": "python",
   "pygments_lexer": "ipython3",
   "version": "3.8.5"
  }
 },
 "nbformat": 4,
 "nbformat_minor": 4
}
