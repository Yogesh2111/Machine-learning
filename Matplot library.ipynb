{
 "cells": [
  {
   "cell_type": "markdown",
   "metadata": {},
   "source": [
    "# Matplotlib\n",
    "\n",
    "Matplotlib is a python library. It contains the pyplot module, which is basically a collection of functions such as plot(), title(), show() etc. pyplot is one of the most commonly used module for creating a variety of plots such as line plots,scatter plots, bar plots, histograms,pie charts etc.\n",
    "\n",
    "Some of the major Pros of Matplotlib are:\n",
    "\n",
    "\n",
    "Generally easy to get started for simple plots\n",
    "\n",
    "Support for custom labels and texts\n",
    "\n",
    "Great control of every element in a figure\n",
    "\n",
    "Very customizable in general"
   ]
  },
  {
   "cell_type": "code",
   "execution_count": 1,
   "metadata": {},
   "outputs": [],
   "source": [
    "# importing the library\n",
    "import matplotlib.pyplot as plt\n",
    "import numpy as np"
   ]
  },
  {
   "cell_type": "markdown",
   "metadata": {},
   "source": [
    "### Scatter plots\n",
    "\n",
    "plt.scatter()"
   ]
  },
  {
   "cell_type": "code",
   "execution_count": 2,
   "metadata": {},
   "outputs": [
    {
     "data": {
      "image/png": "[encoded data removed]",
      "text/plain": [
       "<Figure size 432x288 with 1 Axes>"
      ]
     },
     "metadata": {
      "needs_background": "light"
     },
     "output_type": "display_data"
    }
   ],
   "source": [
    "#creating two lists\n",
    "x=np.arange(0,10)\n",
    "y=np.arange(20,30)\n",
    "\n",
    "#to create a scatter plot\n",
    "plt.scatter(x,y,c = 'g',marker = '*')\n",
    "#xlabel\n",
    "plt.xlabel('X axis')\n",
    "#ylabel\n",
    "plt.ylabel('Y axis')\n",
    "#title of the graph\n",
    "plt.title('Scatter plot')\n",
    "#to see the graph\n",
    "plt.show()\n",
    "#if you want you can save the graph\n",
    "# plt.savefig('Test.png')"
   ]
  },
  {
   "cell_type": "code",
   "execution_count": null,
   "metadata": {},
   "outputs": [],
   "source": []
  }
 ],
 "metadata": {
  "kernelspec": {
   "display_name": "Python 3",
   "language": "python",
   "name": "python3"
  },
  "language_info": {
   "codemirror_mode": {
    "name": "ipython",
    "version": 3
   },
   "file_extension": ".py",
   "mimetype": "text/x-python",
   "name": "python",
   "nbconvert_exporter": "python",
   "pygments_lexer": "ipython3",
   "version": "3.8.5"
  }
 },
 "nbformat": 4,
 "nbformat_minor": 4
}
